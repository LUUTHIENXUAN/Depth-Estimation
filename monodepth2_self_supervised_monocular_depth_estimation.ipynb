{
  "cells": [
    {
      "cell_type": "markdown",
      "metadata": {
        "id": "view-in-github",
        "colab_type": "text"
      },
      "source": [
        "<a href=\"https://colab.research.google.com/github/LUUTHIENXUAN/Depth-Estimation/blob/main/monodepth2_self_supervised_monocular_depth_estimation.ipynb\" target=\"_parent\"><img src=\"https://colab.research.google.com/assets/colab-badge.svg\" alt=\"Open In Colab\"/></a>"
      ]
    },
    {
      "cell_type": "markdown",
      "metadata": {
        "id": "inxjC3ZS-Xzq"
      },
      "source": [
        "## Self-Supervised Monocular Depth Estimation\n",
        "\n",
        "**Author:** [Srihari Humbarwadi](https://twitter.com/srihari_rh)<br>\n",
        "**Date created:** 2020/05/17<br>\n",
        "**Last modified:** 2020/07/14<br>\n",
        "**Description:** Implementing RetinaNet: Digging Into Self-Supervised Monocular Depth Estimation."
      ]
    },
    {
      "cell_type": "markdown",
      "metadata": {
        "id": "GTBKb3Y2-X0F"
      },
      "source": [
        "## Generating detections"
      ]
    },
    {
      "cell_type": "code",
      "execution_count": null,
      "metadata": {
        "id": "aqqF6ig5-X0F"
      },
      "outputs": [],
      "source": [
        "\n",
        "def prepare_image(image):\n",
        "    image, _, ratio = resize_and_pad_image(image, jitter=None)\n",
        "    image = tf.keras.applications.resnet.preprocess_input(image)\n",
        "    return tf.expand_dims(image, axis=0), ratio\n",
        "\n",
        "\n",
        "val_dataset = tfds.load(\"coco/2017\", split=\"validation\", data_dir=\"data\")\n",
        "int2str = dataset_info.features[\"objects\"][\"label\"].int2str\n",
        "\n",
        "for sample in val_dataset.take(2):\n",
        "    image = tf.cast(sample[\"image\"], dtype=tf.float32)\n",
        "    input_image, ratio = prepare_image(image)\n",
        "    detections = inference_model.predict(input_image)\n",
        "    num_detections = detections.valid_detections[0]\n",
        "    class_names = [\n",
        "        int2str(int(x)) for x in detections.nmsed_classes[0][:num_detections]\n",
        "    ]\n",
        "    visualize_detections(\n",
        "        image,\n",
        "        detections.nmsed_boxes[0][:num_detections] / ratio,\n",
        "        class_names,\n",
        "        detections.nmsed_scores[0][:num_detections],\n",
        "    )"
      ]
    },
    {
      "cell_type": "markdown",
      "metadata": {
        "id": "VlhEkANV-X0F"
      },
      "source": [
        "Example available on HuggingFace.\n",
        "\n",
        "| Trained Model | Demo |\n",
        "| :--: | :--: |\n",
        "| [![Generic badge](https://img.shields.io/badge/%F0%9F%A4%97%20Model-Object%20Detection%20With%20Retinanet-black.svg)](https://huggingface.co/keras-io/Object-Detection-RetinaNet) | [![Generic badge](https://img.shields.io/badge/%F0%9F%A4%97%20Spaces-Object%20Detection%20With%20Retinanet-black.svg)](https://huggingface.co/spaces/keras-io/Object-Detection-Using-RetinaNet) |"
      ]
    }
  ],
  "metadata": {
    "colab": {
      "collapsed_sections": [
        "YZxbBYEE-Xzu",
        "WnYbf7oi-Xzx",
        "yIDbFgC9-Xzy",
        "BGDxKNOr-Xzz",
        "E2wBVV_M-Xz3",
        "0lrHW7IU-Xz6",
        "AjO7mndG-Xz7",
        "OSS5-PMT-Xz8",
        "gXrN1_kA-Xz9",
        "wcxLcdLA-Xz-",
        "8SDT2qyJ-Xz_",
        "sH3fs_4x-Xz_",
        "XJPqWVqs-X0A",
        "is0OXZZf-X0A",
        "X9gaeJJ9-X0B",
        "gAKOZcet-X0B",
        "MaqE_P4_-X0C",
        "d6BE8y-a-X0C",
        "PqioVHTl-X0E",
        "GTBKb3Y2-X0F"
      ],
      "provenance": [],
      "machine_shape": "hm",
      "include_colab_link": true
    },
    "kernelspec": {
      "display_name": "Python 3",
      "language": "python",
      "name": "python3"
    },
    "language_info": {
      "codemirror_mode": {
        "name": "ipython",
        "version": 3
      },
      "file_extension": ".py",
      "mimetype": "text/x-python",
      "name": "python",
      "nbconvert_exporter": "python",
      "pygments_lexer": "ipython3",
      "version": "3.7.0"
    },
    "accelerator": "GPU",
    "gpuClass": "standard"
  },
  "nbformat": 4,
  "nbformat_minor": 0
}